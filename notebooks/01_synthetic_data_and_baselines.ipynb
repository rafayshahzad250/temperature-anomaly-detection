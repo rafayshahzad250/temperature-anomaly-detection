{
 "cells": [
  {
   "cell_type": "markdown",
   "id": "ac77ecc7",
   "metadata": {},
   "source": [
    "# 01 — Synthetic Data & Baselines\n",
    "\n",
    "Welcome! Run the cells step-by-step. This notebook will:\n",
    "1) Generate synthetic temperature data with **spikes**, **drops**, **drift**, and **noisy** segments.\n",
    "2) Explore rolling stats and a simple z-score detector.\n",
    "3) Build a small **Isolation Forest** baseline.\n",
    "\n",
    "**Tip:** Use *Run All Cells* the first time to verify your environment.\n"
   ]
  },
  {
   "cell_type": "code",
   "execution_count": null,
   "id": "5d4d9ce6",
   "metadata": {},
   "outputs": [],
   "source": [
    "## run this if noticing trouble with library imports\n",
    "import os, sys\n",
    "PROJECT_ROOT = os.path.abspath(os.path.join(os.getcwd(), \"..\"))\n",
    "if PROJECT_ROOT not in sys.path:\n",
    "    sys.path.insert(0, PROJECT_ROOT)\n",
    "print(\"Using project root:\", PROJECT_ROOT)\n"
   ]
  },
  {
   "cell_type": "code",
   "execution_count": null,
   "id": "1b9a3cf1",
   "metadata": {},
   "outputs": [],
   "source": [
    "import numpy as np\n",
    "import pandas as pd\n",
    "import matplotlib.pyplot as plt\n",
    "from sklearn.ensemble import IsolationForest\n",
    "from sklearn.metrics import precision_recall_fscore_support, classification_report\n",
    "from src.sim import simulate_temperature_series\n",
    "from src.features import add_rolling_features, make_windowed_matrix\n",
    "\n",
    "pd.set_option(\"display.max_columns\", 50)"
   ]
  },
  {
   "cell_type": "markdown",
   "id": "f6c3a1ea",
   "metadata": {},
   "source": [
    "## 1) Generate synthetic data"
   ]
  },
  {
   "cell_type": "code",
   "execution_count": null,
   "id": "43ab89c7",
   "metadata": {},
   "outputs": [],
   "source": [
    "df = simulate_temperature_series(n=10000, base_temp=100.0, noise_sigma=0.2, seed=42)\n",
    "df.head()"
   ]
  },
  {
   "cell_type": "markdown",
   "id": "aca539d6",
   "metadata": {},
   "source": [
    "### Plot the temperature series"
   ]
  },
  {
   "cell_type": "code",
   "execution_count": null,
   "id": "841d6f54",
   "metadata": {},
   "outputs": [],
   "source": [
    "plt.figure(figsize=(12,3))\n",
    "plt.plot(df['t'], df['temp'])\n",
    "plt.title('Synthetic Temperature Series')\n",
    "plt.xlabel('t'); plt.ylabel('temp (°C)')\n",
    "plt.show()"
   ]
  },
  {
   "cell_type": "markdown",
   "id": "96e014be",
   "metadata": {},
   "source": [
    "## 2) Rolling stats + z-score detector"
   ]
  },
  {
   "cell_type": "code",
   "execution_count": null,
   "id": "ca570a59",
   "metadata": {},
   "outputs": [],
   "source": [
    "window = 50\n",
    "df = add_rolling_features(df, window=window)\n",
    "\n",
    "# Simple rule-based anomaly via rolling z-score threshold\n",
    "THRESH = 4.0\n",
    "df['anomaly_rule'] = (df[f'zscore_{window}'].abs() >= THRESH).astype(int)\n",
    "\n",
    "y_true = df['is_anomaly'].astype(int).fillna(0).values\n",
    "y_pred = df['anomaly_rule'].values\n",
    "\n",
    "# Some roll features are NaN at the beginning; ignore those indices\n",
    "valid = ~np.isnan(df[f'zscore_{window}'].values)\n",
    "pr, rc, f1, _ = precision_recall_fscore_support(y_true[valid], y_pred[valid], average='binary', zero_division=0)\n",
    "print(f\"Rule-based z-score >= {THRESH}: Precision={pr:.3f} Recall={rc:.3f} F1={f1:.3f}\")"
   ]
  },
  {
   "cell_type": "code",
   "execution_count": null,
   "id": "2b2836e2",
   "metadata": {},
   "outputs": [],
   "source": [
    "# Visualize z-score and flagged anomalies\n",
    "plt.figure(figsize=(12,4))\n",
    "plt.plot(df['t'], df['temp'], label='temp')\n",
    "plt.plot(df['t'], df[f'roll_mean_{window}'], label=f'rolling mean ({window})')\n",
    "plt.scatter(df.loc[df['anomaly_rule']==1, 't'],\n",
    "            df.loc[df['anomaly_rule']==1, 'temp'],\n",
    "            s=12, label='flagged (rule)', marker='x')\n",
    "plt.legend()\n",
    "plt.title('Rolling Mean + Rule-Based Flags')\n",
    "plt.xlabel('t'); plt.ylabel('temp (°C)')\n",
    "plt.show()"
   ]
  },
  {
   "cell_type": "markdown",
   "id": "8a5006b6",
   "metadata": {},
   "source": [
    "## 3) Isolation Forest on windowed slices"
   ]
  },
  {
   "cell_type": "code",
   "execution_count": null,
   "id": "61de6daf",
   "metadata": {},
   "outputs": [],
   "source": [
    "win = 50\n",
    "X = make_windowed_matrix(df['temp'].values, window=win)\n",
    "\n",
    "# IsolationForest expects 2D features; here each row is a short window of the series.\n",
    "iso = IsolationForest(\n",
    "    n_estimators=200,\n",
    "    contamination=0.03,  # expected anomaly fraction; tune later\n",
    "    random_state=42\n",
    ")\n",
    "iso.fit(X)\n",
    "\n",
    "# Scores: -1 = anomaly, 1 = normal\n",
    "preds = iso.predict(X)\n",
    "\n",
    "# Expand back to series length by aligning window centers\n",
    "anom_iso = np.zeros(len(df), dtype=int)\n",
    "centers = np.arange(win//2, len(df) - win//2 + 1)  # +1 to include the last center\n",
    "anom_iso[centers] = (preds == -1).astype(int)\n",
    "\n",
    "df['anomaly_iso'] = anom_iso\n",
    "\n",
    "# Evaluate\n",
    "y_true = df['is_anomaly'].astype(int).values\n",
    "y_pred = df['anomaly_iso'].values\n",
    "print(classification_report(y_true, y_pred, digits=3))"
   ]
  },
  {
   "cell_type": "markdown",
   "id": "195f10d8",
   "metadata": {},
   "source": [
    "### Plot Isolation Forest flags"
   ]
  },
  {
   "cell_type": "code",
   "execution_count": null,
   "id": "258292f7",
   "metadata": {},
   "outputs": [],
   "source": [
    "plt.figure(figsize=(12,4))\n",
    "plt.plot(df['t'], df['temp'], label='temp')\n",
    "plt.scatter(df.loc[df['anomaly_iso']==1, 't'],\n",
    "            df.loc[df['anomaly_iso']==1, 'temp'],\n",
    "            s=10, label='flagged (IF)', marker='o', color=\"red\")\n",
    "plt.legend()\n",
    "plt.title('Isolation Forest Flags')\n",
    "plt.xlabel('t'); plt.ylabel('temp (°C)')\n",
    "plt.show()"
   ]
  },
  {
   "cell_type": "markdown",
   "id": "6f1e1063",
   "metadata": {},
   "source": [
    "## 4) Save artifacts (optional)"
   ]
  },
  {
   "cell_type": "code",
   "execution_count": null,
   "id": "4c6e7aea",
   "metadata": {},
   "outputs": [],
   "source": [
    "import os\n",
    "\n",
    "out_dir = \"../data/processed\"  # go up one folder from notebooks/\n",
    "os.makedirs(out_dir, exist_ok=True)\n",
    "\n",
    "out_csv = os.path.join(out_dir, \"simulated_with_flags.csv\")\n",
    "df.to_csv(out_csv, index=False)\n",
    "print(f\"Saved to {out_csv}\")\n",
    "\n"
   ]
  },
  {
   "cell_type": "markdown",
   "id": "c52f9d8f",
   "metadata": {},
   "source": [
    "---\n",
    "**Next up (covered in later notebooks):**\n",
    "- Hyperparameter tuning & threshold calibration.\n",
    "- Drift detection (slow trends).\n",
    "- Simple streaming monitor that buffers the last N points and scores in real time.\n"
   ]
  }
 ],
 "metadata": {
  "kernelspec": {
   "display_name": ".venv",
   "language": "python",
   "name": "python3"
  },
  "language_info": {
   "codemirror_mode": {
    "name": "ipython",
    "version": 3
   },
   "file_extension": ".py",
   "mimetype": "text/x-python",
   "name": "python",
   "nbconvert_exporter": "python",
   "pygments_lexer": "ipython3",
   "version": "3.9.13"
  }
 },
 "nbformat": 4,
 "nbformat_minor": 5
}
