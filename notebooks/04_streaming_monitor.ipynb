{
 "cells": [
  {
   "cell_type": "markdown",
   "id": "ca79cc04",
   "metadata": {},
   "source": [
    "# Notebook 04: Streaming Monitor (Real‑Time Simulation)\n",
    "\n",
    "This notebook simulates real‑time anomaly detection:\n",
    "\n",
    "1. Load (or simulate) temperature time series data with ground truth.\n",
    "2. Maintain a rolling buffer of recent points.\n",
    "3. Apply multiple detectors at each step:\n",
    "- Z‑score rule\n",
    "- Rolling slope (drift)\n",
    "- Rolling variance (jitter)\n",
    "- Isolation Forest (windowed patterns)\n",
    "4. Combine them (OR rule) to raise alerts.\n",
    "5. Evaluate precision/recall/F1 and plot results.\n"
   ]
  },
  {
   "cell_type": "code",
   "execution_count": 17,
   "id": "7fc36e9a",
   "metadata": {},
   "outputs": [],
   "source": [
    "\n",
    "import os, sys, json, time\n",
    "from collections import deque\n",
    "\n",
    "import numpy as np\n",
    "import pandas as pd\n",
    "import matplotlib.pyplot as plt\n",
    "\n",
    "PROJECT_ROOT = os.path.abspath(os.path.join(os.getcwd(), \"..\"))\n",
    "if PROJECT_ROOT not in sys.path:\n",
    "    sys.path.insert(0, PROJECT_ROOT)\n",
    "\n",
    "from sklearn.ensemble import IsolationForest\n",
    "from sklearn.metrics import precision_recall_fscore_support\n",
    "\n",
    "from src.sim import simulate_temperature_series\n",
    "from src.features import make_windowed_matrix\n",
    "\n",
    "plt.rcParams['figure.figsize'] = (12, 4)\n"
   ]
  },
  {
   "cell_type": "code",
   "execution_count": 18,
   "id": "9cd1f7f1",
   "metadata": {},
   "outputs": [
    {
     "name": "stdout",
     "output_type": "stream",
     "text": [
      "Loaded tuned params from best_params.json\n"
     ]
    },
    {
     "data": {
      "text/plain": [
       "{'buffer_len': 200,\n",
       " 'z_thresh': 3.0,\n",
       " 'if_window': 30,\n",
       " 'if_contamination': 0.05,\n",
       " 'if_n_estimators': 200,\n",
       " 'jitter_window': 80,\n",
       " 'jitter_mult': 4.0}"
      ]
     },
     "execution_count": 18,
     "metadata": {},
     "output_type": "execute_result"
    }
   ],
   "source": [
    "\n",
    "CONF = {\n",
    "    \"buffer_len\": 200,\n",
    "    \"z_thresh\": 4.0,\n",
    "    \"if_window\": 50,\n",
    "    \"if_contamination\": 0.03,\n",
    "    \"if_n_estimators\": 200,\n",
    "    \"jitter_window\": 80,\n",
    "    \"jitter_mult\": 4.0\n",
    "}\n",
    "\n",
    "try:\n",
    "    with open(\"../data/processed/best_params.json\", \"r\") as f:\n",
    "        best = json.load(f)\n",
    "        CONF[\"if_window\"] = int(best[\"iforest\"][\"window\"])\n",
    "        CONF[\"if_contamination\"] = float(best[\"iforest\"][\"contam\"])\n",
    "        CONF[\"if_n_estimators\"] = int(best[\"iforest\"][\"n_estimators\"])\n",
    "        CONF[\"z_thresh\"] = float(best[\"rule\"][\"thresh\"])\n",
    "        CONF[\"buffer_len\"] = max(CONF[\"buffer_len\"], int(best[\"rule\"][\"window\"]))\n",
    "        print(\"Loaded tuned params from best_params.json\")\n",
    "except FileNotFoundError:\n",
    "    print(\"No tuned params found, using defaults\")\n",
    "\n",
    "CONF\n"
   ]
  },
  {
   "cell_type": "code",
   "execution_count": 19,
   "id": "bff15ce7",
   "metadata": {},
   "outputs": [],
   "source": [
    "USE_SAVED = False\n",
    "\n",
    "if USE_SAVED:\n",
    "    df = pd.read_csv(\"../data/processed/simulated_with_flags.csv\")\n",
    "else:\n",
    "    df = simulate_temperature_series(\n",
    "        n=5000, base_temp=100.0, noise_sigma=0.2, seed=42\n",
    "    )\n",
    "\n",
    "y_true = df[\"is_anomaly\"].astype(int).to_numpy()\n",
    "\n",
    "xs = df[\"t\"].values\n",
    "ys = df[\"temp\"].values\n"
   ]
  },
  {
   "cell_type": "code",
   "execution_count": 20,
   "id": "916b1902",
   "metadata": {},
   "outputs": [],
   "source": [
    "\n",
    "def slope_over_last(x):\n",
    "    t = np.arange(len(x), dtype=float)\n",
    "    denom = np.var(t)\n",
    "    if denom == 0:\n",
    "        return 0.0\n",
    "    return np.mean((t - t.mean()) * (x - x.mean())) / denom\n",
    "\n",
    "def robust_med_mad(values):\n",
    "    v = values[np.isfinite(values)]\n",
    "    if v.size == 0:\n",
    "        return np.nan, np.nan\n",
    "    med = np.median(v)\n",
    "    mad = np.median(np.abs(v - med))\n",
    "    return med, mad\n"
   ]
  },
  {
   "cell_type": "code",
   "execution_count": 21,
   "id": "57b1fbc3",
   "metadata": {},
   "outputs": [
    {
     "data": {
      "text/plain": [
       "np.float64(0.24201201744713616)"
      ]
     },
     "execution_count": 21,
     "metadata": {},
     "output_type": "execute_result"
    }
   ],
   "source": [
    "\n",
    "BUF = deque(maxlen=CONF[\"buffer_len\"])\n",
    "times, temps = [], []\n",
    "\n",
    "flags_rule, flags_slope, flags_jitter, flags_iforest, flags_final = [], [], [], [], []\n",
    "\n",
    "warmup = max(CONF[\"buffer_len\"], 1000)\n",
    "warm_df = df.iloc[:warmup]\n",
    "\n",
    "X_warm = make_windowed_matrix(warm_df[\"temp\"].to_numpy(), window=CONF[\"if_window\"])\n",
    "iforest = None\n",
    "if X_warm.shape[0] > 0:\n",
    "    iforest = IsolationForest(\n",
    "        n_estimators=CONF[\"if_n_estimators\"],\n",
    "        contamination=CONF[\"if_contamination\"],\n",
    "        random_state=42\n",
    "    ).fit(X_warm)\n",
    "\n",
    "roll_std = pd.Series(warm_df[\"temp\"]).rolling(CONF[\"jitter_window\"]).std(ddof=0).to_numpy()\n",
    "med_std, mad_std = robust_med_mad(roll_std)\n",
    "tau_jitter = med_std + CONF[\"jitter_mult\"] * mad_std\n",
    "\n",
    "tau_jitter\n"
   ]
  },
  {
   "cell_type": "code",
   "execution_count": 22,
   "id": "1085154b",
   "metadata": {},
   "outputs": [
    {
     "name": "stdout",
     "output_type": "stream",
     "text": [
      "Streaming finished.\n"
     ]
    }
   ],
   "source": [
    "\n",
    "START_AT = warmup\n",
    "\n",
    "for t, x in stream_rows(df):\n",
    "    BUF.append(x)\n",
    "    times.append(t)\n",
    "    temps.append(x)\n",
    "    \n",
    "    r = s = j = f = 0\n",
    "    \n",
    "    if len(BUF) >= CONF[\"buffer_len\"] and t >= START_AT:\n",
    "        arr = np.array(BUF)\n",
    "        \n",
    "        mean, std = arr.mean(), arr.std() + 1e-8\n",
    "        z = (arr[-1] - mean) / std\n",
    "        r = int(abs(z) >= CONF[\"z_thresh\"])\n",
    "        \n",
    "        slope = slope_over_last(arr)\n",
    "        slope_tau = 3.0 * (std / len(arr))\n",
    "        s = int(abs(slope) >= slope_tau)\n",
    "        \n",
    "        jw = min(CONF[\"jitter_window\"], len(arr))\n",
    "        local_std = pd.Series(arr).rolling(jw).std(ddof=0).to_numpy()[-1]\n",
    "        j = int(local_std >= tau_jitter)\n",
    "        \n",
    "        if iforest and CONF[\"if_window\"] <= len(arr):\n",
    "            win = CONF[\"if_window\"]\n",
    "            cur = arr[-win:]\n",
    "            pred = iforest.predict(cur.reshape(1, -1))[0]\n",
    "            f = int(pred == -1)\n",
    "    \n",
    "    final = int(r or s or j or f)\n",
    "    \n",
    "    flags_rule.append(r)\n",
    "    flags_slope.append(s)\n",
    "    flags_jitter.append(j)\n",
    "    flags_iforest.append(f)\n",
    "    flags_final.append(final)\n",
    "    \n",
    "print(\"Streaming finished.\")\n",
    "\n",
    "def detect_noisy_segments(y, window=60, factor=3.0, min_len=40):\n",
    "    import numpy as np, pandas as pd\n",
    "    y = pd.Series(y)\n",
    "    roll_std = y.rolling(window, center=True).std(ddof=0)\n",
    "    baseline = roll_std.quantile(0.25)    \n",
    "    thr = baseline * factor\n",
    "    noisy = (roll_std > thr).astype(int)\n",
    "\n",
    "    pad = window // 2\n",
    "    if pad > 0:\n",
    "        noisy = noisy.rolling(pad, center=True, min_periods=1).max()\n",
    "\n",
    "    arr = noisy.fillna(0).astype(int).to_numpy()\n",
    "    out = np.zeros_like(arr)\n",
    "    i, n = 0, len(arr)\n",
    "    while i < n:\n",
    "        if arr[i] == 1:\n",
    "            j = i\n",
    "            while j < n and arr[j] == 1:\n",
    "                j += 1\n",
    "            if (j - i) >= min_len:\n",
    "                out[i:j] = 1\n",
    "            i = j\n",
    "        else:\n",
    "            i += 1\n",
    "    return out\n",
    "\n",
    "flags_noise = detect_noisy_segments(ys, window=30, factor=3.0, min_len=40)\n",
    "flags_final = np.logical_or(flags_final, flags_noise).astype(int)\n",
    "\n"
   ]
  },
  {
   "cell_type": "code",
   "execution_count": 23,
   "id": "98029ad8",
   "metadata": {},
   "outputs": [
    {
     "data": {
      "text/plain": [
       "{'rule': (0.28125, 0.0078125, 0.015202702702702704),\n",
       " 'slope': (1.0, 0.7569444444444444, 0.8616600790513834),\n",
       " 'jitter': (0.7993226079593565, 0.8194444444444444, 0.8092584654950707),\n",
       " 'iforest': (0.9812981298129813, 0.7743055555555556, 0.8655992236778263),\n",
       " 'final': (0.7771469127040455, 0.9505208333333334, 0.8551347130027334)}"
      ]
     },
     "execution_count": 23,
     "metadata": {},
     "output_type": "execute_result"
    }
   ],
   "source": [
    "\n",
    "def prf1(y_true, y_pred):\n",
    "    pr, rc, f1, _ = precision_recall_fscore_support(y_true, y_pred, average=\"binary\", zero_division=0)\n",
    "    return pr, rc, f1\n",
    "\n",
    "y_true_np = y_true[:len(flags_final)]\n",
    "results = {\n",
    "    \"rule\": prf1(y_true_np, np.array(flags_rule)),\n",
    "    \"slope\": prf1(y_true_np, np.array(flags_slope)),\n",
    "    \"jitter\": prf1(y_true_np, np.array(flags_jitter)),\n",
    "    \"iforest\": prf1(y_true_np, np.array(flags_iforest)),\n",
    "    \"final\": prf1(y_true_np, np.array(flags_final))\n",
    "}\n",
    "results\n"
   ]
  },
  {
   "cell_type": "code",
   "execution_count": 24,
   "id": "6b737109",
   "metadata": {},
   "outputs": [
    {
     "data": {
      "image/png": "[encoded data removed]",
      "text/plain": [
       "<Figure size 1200x400 with 1 Axes>"
      ]
     },
     "metadata": {},
     "output_type": "display_data"
    }
   ],
   "source": [
    "\n",
    "ts, ys = np.array(times), np.array(temps)\n",
    "\n",
    "plt.figure()\n",
    "plt.plot(ts, ys, label=\"temp\")\n",
    "plt.scatter(ts[np.array(flags_final)==1], ys[np.array(flags_final)==1], s=10, label=\"final flags\", color=\"red\")\n",
    "plt.legend(); plt.show()\n"
   ]
  },
  {
   "cell_type": "code",
   "execution_count": 25,
   "id": "9fdcae87",
   "metadata": {},
   "outputs": [
    {
     "data": {
      "text/plain": [
       "'../data/processed/streaming_results.csv'"
      ]
     },
     "execution_count": 25,
     "metadata": {},
     "output_type": "execute_result"
    }
   ],
   "source": [
    "\n",
    "out = pd.DataFrame({\n",
    "    \"t\": ts,\n",
    "    \"temp\": ys,\n",
    "    \"flag_rule\": flags_rule,\n",
    "    \"flag_slope\": flags_slope,\n",
    "    \"flag_jitter\": flags_jitter,\n",
    "    \"flag_iforest\": flags_iforest,\n",
    "    \"flag_final\": flags_final,\n",
    "    \"is_anomaly\": y_true_np\n",
    "})\n",
    "os.makedirs(\"../data/processed\", exist_ok=True)\n",
    "csv_path = \"../data/processed/streaming_results.csv\"\n",
    "out.to_csv(csv_path, index=False)\n",
    "csv_path\n"
   ]
  }
 ],
 "metadata": {
  "language_info": {
   "name": "python"
  }
 },
 "nbformat": 4,
 "nbformat_minor": 5
}
